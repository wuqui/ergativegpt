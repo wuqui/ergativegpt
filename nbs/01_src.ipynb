{
 "cells": [
  {
   "cell_type": "code",
   "execution_count": null,
   "metadata": {},
   "outputs": [],
   "source": [
    "#| default_exp src"
   ]
  },
  {
   "cell_type": "code",
   "execution_count": null,
   "metadata": {},
   "outputs": [],
   "source": [
    "%load_ext autoreload\n",
    "%autoreload 2"
   ]
  },
  {
   "cell_type": "markdown",
   "metadata": {},
   "source": [
    "# source functions"
   ]
  },
  {
   "cell_type": "code",
   "execution_count": null,
   "metadata": {},
   "outputs": [],
   "source": [
    "#| export\n",
    "import pandas as pd\n",
    "from sklearn.metrics import precision_recall_fscore_support,  accuracy_score\n",
    "from langchain.pydantic_v1 import BaseModel, Field"
   ]
  },
  {
   "cell_type": "code",
   "execution_count": null,
   "metadata": {},
   "outputs": [],
   "source": [
    "#| export\n",
    "class UtteranceClassification(BaseModel):\n",
    "    \"\"\"Classifying the utterances according to linguistic criteria.\"\"\"\n",
    "    gpt_transitivity: str = Field(..., description=\"Whether this use of the verb should be labelled either `transitive` or `intransitive`.\")\n",
    "    gpt_causativity: str = Field(..., description=\"Whether this use of the verb should be labelled as `causative` or `anticausative`.\")\n",
    "    gpt_subject_animacy: str = Field(..., description='Whether the subject of the verb should be labelled as `animate` or `inamimate`.')\n",
    "    gpt_subject_role: str = Field(..., description='Whether the semantic role of the subject of the verb should be labelled as either `agent` or `patient`.')\n",
    "    gpt_subject: str = Field(..., description='The subject in this utterance that you considered for your classification.')\n",
    "    gpt_verb: str = Field(..., description='The verb in this utterance that you considered for your classification.')\n",
    "    gpt_object: str = Field(..., description='The object in this utterance that you considered for your classification.')"
   ]
  },
  {
   "cell_type": "code",
   "execution_count": null,
   "metadata": {},
   "outputs": [],
   "source": [
    "#| export\n",
    "def get_metrics(results, variable, pos_label):\n",
    "\tgpt_variable = f'gpt_{variable}'\n",
    "\tprecision, recall, f1, support = precision_recall_fscore_support(\n",
    "\t\tresults[variable], results[gpt_variable], \n",
    "\t\tpos_label=pos_label,\n",
    "\t\taverage='binary',\n",
    "\t)\n",
    "\tmetrics = pd.DataFrame(\n",
    "\t\tcolumns = ['variable', 'metric', 'score'],\n",
    "\t\tdata = [\n",
    "\t\t\t[variable, 'precision', round(precision, 2)],\n",
    "\t\t\t[variable, 'recall', round(recall, 2)],\n",
    "\t\t\t[variable, 'accuracy', accuracy_score(results[variable], results[gpt_variable])],\n",
    "\t\t\t[variable, 'F1', round(f1, 2)]\n",
    "\t\t])\n",
    "\treturn metrics"
   ]
  }
 ],
 "metadata": {
  "kernelspec": {
   "display_name": "python3",
   "language": "python",
   "name": "python3"
  }
 },
 "nbformat": 4,
 "nbformat_minor": 2
}
