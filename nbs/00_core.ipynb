{
 "cells": [
  {
   "cell_type": "raw",
   "metadata": {
    "vscode": {
     "languageId": "raw"
    }
   },
   "source": [
    "---\n",
    "skip_exec: true\n",
    "---\n"
   ]
  },
  {
   "cell_type": "code",
   "execution_count": 1,
   "metadata": {},
   "outputs": [],
   "source": [
    "#| default_exp core"
   ]
  },
  {
   "cell_type": "code",
   "execution_count": 2,
   "metadata": {},
   "outputs": [],
   "source": [
    "%load_ext autoreload\n",
    "%autoreload 2"
   ]
  },
  {
   "cell_type": "markdown",
   "metadata": {},
   "source": [
    "# pipeline"
   ]
  },
  {
   "cell_type": "code",
   "execution_count": 3,
   "metadata": {},
   "outputs": [],
   "source": [
    "#| notest\n",
    "# Import specific functions we need from src, not everything\n",
    "from ergativegpt.src import UtteranceClassification, get_metrics"
   ]
  },
  {
   "cell_type": "code",
   "execution_count": 4,
   "metadata": {},
   "outputs": [],
   "source": [
    "import pandas as pd\n",
    "\n",
    "from langchain.chains.openai_functions import create_structured_output_runnable\n",
    "from langchain.chat_models import ChatOpenAI\n",
    "from langchain.prompts import ChatPromptTemplate\n",
    "\n",
    "from tqdm.notebook import tqdm\n",
    "\n",
    "from sklearn.metrics import precision_recall_fscore_support,  accuracy_score\n",
    "\n",
    "import altair as alt\n",
    "\n",
    "from datetime import datetime"
   ]
  },
  {
   "cell_type": "markdown",
   "metadata": {},
   "source": [
    "## load data"
   ]
  },
  {
   "cell_type": "code",
   "execution_count": null,
   "metadata": {},
   "outputs": [
    {
     "data": {
      "text/html": [
       "<div>\n",
       "<style scoped>\n",
       "    .dataframe tbody tr th:only-of-type {\n",
       "        vertical-align: middle;\n",
       "    }\n",
       "\n",
       "    .dataframe tbody tr th {\n",
       "        vertical-align: top;\n",
       "    }\n",
       "\n",
       "    .dataframe thead th {\n",
       "        text-align: right;\n",
       "    }\n",
       "</style>\n",
       "<table border=\"1\" class=\"dataframe\">\n",
       "  <thead>\n",
       "    <tr style=\"text-align: right;\">\n",
       "      <th></th>\n",
       "      <th>Token</th>\n",
       "      <th>Corpus</th>\n",
       "      <th>Source</th>\n",
       "      <th>Year</th>\n",
       "      <th>Variety</th>\n",
       "      <th>verbRealization</th>\n",
       "      <th>verbLemma</th>\n",
       "      <th>Transitivity</th>\n",
       "      <th>Transitivity_GPT</th>\n",
       "      <th>subjectAnimacy</th>\n",
       "      <th>subjectAnimacy_GPT</th>\n",
       "      <th>subjectRole</th>\n",
       "      <th>subjectRole_GPT</th>\n",
       "      <th>Construction</th>\n",
       "      <th>Construction_GPT</th>\n",
       "    </tr>\n",
       "  </thead>\n",
       "  <tbody>\n",
       "    <tr>\n",
       "      <th>0</th>\n",
       "      <td>All the videos I'd been uploading to Facebook ...</td>\n",
       "      <td>NOW</td>\n",
       "      <td>https://www.vulture.com/article/marc-rebillet-...</td>\n",
       "      <td>2021</td>\n",
       "      <td>AmE</td>\n",
       "      <td>uploading</td>\n",
       "      <td>upload</td>\n",
       "      <td>Transitive</td>\n",
       "      <td>NaN</td>\n",
       "      <td>Animate</td>\n",
       "      <td>NaN</td>\n",
       "      <td>Agent</td>\n",
       "      <td>NaN</td>\n",
       "      <td>0</td>\n",
       "      <td>NaN</td>\n",
       "    </tr>\n",
       "    <tr>\n",
       "      <th>1</th>\n",
       "      <td>The investigation began after discovering the ...</td>\n",
       "      <td>NOW</td>\n",
       "      <td>https://www.herald-dispatch.com/news/police-ro...</td>\n",
       "      <td>2021</td>\n",
       "      <td>AmE</td>\n",
       "      <td>uploading</td>\n",
       "      <td>upload</td>\n",
       "      <td>Transitive</td>\n",
       "      <td>NaN</td>\n",
       "      <td>Animate</td>\n",
       "      <td>NaN</td>\n",
       "      <td>Agent</td>\n",
       "      <td>NaN</td>\n",
       "      <td>0</td>\n",
       "      <td>NaN</td>\n",
       "    </tr>\n",
       "    <tr>\n",
       "      <th>2</th>\n",
       "      <td>Elizabeth has been uploading one throwback bik...</td>\n",
       "      <td>NOW</td>\n",
       "      <td>https://hollywoodlife.com/2021/02/02/elizabeth...</td>\n",
       "      <td>2021</td>\n",
       "      <td>AmE</td>\n",
       "      <td>uploading</td>\n",
       "      <td>upload</td>\n",
       "      <td>Transitive</td>\n",
       "      <td>NaN</td>\n",
       "      <td>Animate</td>\n",
       "      <td>NaN</td>\n",
       "      <td>Agent</td>\n",
       "      <td>NaN</td>\n",
       "      <td>0</td>\n",
       "      <td>NaN</td>\n",
       "    </tr>\n",
       "    <tr>\n",
       "      <th>3</th>\n",
       "      <td>This tester community has been uploading video...</td>\n",
       "      <td>NOW</td>\n",
       "      <td>https://www.thedailybeast.com/tesla-has-nda-si...</td>\n",
       "      <td>2021</td>\n",
       "      <td>AmE</td>\n",
       "      <td>uploading</td>\n",
       "      <td>upload</td>\n",
       "      <td>Transitive</td>\n",
       "      <td>NaN</td>\n",
       "      <td>Animate</td>\n",
       "      <td>NaN</td>\n",
       "      <td>Agent</td>\n",
       "      <td>NaN</td>\n",
       "      <td>0</td>\n",
       "      <td>NaN</td>\n",
       "    </tr>\n",
       "    <tr>\n",
       "      <th>4</th>\n",
       "      <td>Throughout the holiday, which Haim has dubbed ...</td>\n",
       "      <td>NOW</td>\n",
       "      <td>https://www.vanityfair.com/style/2021/12/adam-...</td>\n",
       "      <td>2021</td>\n",
       "      <td>AmE</td>\n",
       "      <td>uploading</td>\n",
       "      <td>upload</td>\n",
       "      <td>Transitive</td>\n",
       "      <td>NaN</td>\n",
       "      <td>Animate</td>\n",
       "      <td>NaN</td>\n",
       "      <td>Agent</td>\n",
       "      <td>NaN</td>\n",
       "      <td>0</td>\n",
       "      <td>NaN</td>\n",
       "    </tr>\n",
       "    <tr>\n",
       "      <th>...</th>\n",
       "      <td>...</td>\n",
       "      <td>...</td>\n",
       "      <td>...</td>\n",
       "      <td>...</td>\n",
       "      <td>...</td>\n",
       "      <td>...</td>\n",
       "      <td>...</td>\n",
       "      <td>...</td>\n",
       "      <td>...</td>\n",
       "      <td>...</td>\n",
       "      <td>...</td>\n",
       "      <td>...</td>\n",
       "      <td>...</td>\n",
       "      <td>...</td>\n",
       "      <td>...</td>\n",
       "    </tr>\n",
       "    <tr>\n",
       "      <th>195</th>\n",
       "      <td>These results will simultaneously upload to bl...</td>\n",
       "      <td>NOW</td>\n",
       "      <td>https://www.wfmz.com/news/pr_newswire/pr_newsw...</td>\n",
       "      <td>2021</td>\n",
       "      <td>AmE</td>\n",
       "      <td>upload</td>\n",
       "      <td>upload</td>\n",
       "      <td>Intransitive</td>\n",
       "      <td>NaN</td>\n",
       "      <td>Inanimate</td>\n",
       "      <td>NaN</td>\n",
       "      <td>Patient</td>\n",
       "      <td>NaN</td>\n",
       "      <td>1</td>\n",
       "      <td>NaN</td>\n",
       "    </tr>\n",
       "    <tr>\n",
       "      <th>196</th>\n",
       "      <td>Completed rides will automatically upload to a...</td>\n",
       "      <td>NOW</td>\n",
       "      <td>https://www.road.cc/content/review/264803-waho...</td>\n",
       "      <td>2019</td>\n",
       "      <td>BrE</td>\n",
       "      <td>upload</td>\n",
       "      <td>upload</td>\n",
       "      <td>Intransitive</td>\n",
       "      <td>NaN</td>\n",
       "      <td>Inanimate</td>\n",
       "      <td>NaN</td>\n",
       "      <td>Patient</td>\n",
       "      <td>NaN</td>\n",
       "      <td>1</td>\n",
       "      <td>NaN</td>\n",
       "    </tr>\n",
       "    <tr>\n",
       "      <th>197</th>\n",
       "      <td>It will automatically upload to your Digital D...</td>\n",
       "      <td>NOW</td>\n",
       "      <td>http://lifehacker.com/5920477/get-digital-doub...</td>\n",
       "      <td>2012</td>\n",
       "      <td>AmE</td>\n",
       "      <td>upload</td>\n",
       "      <td>upload</td>\n",
       "      <td>Intransitive</td>\n",
       "      <td>NaN</td>\n",
       "      <td>Inanimate</td>\n",
       "      <td>NaN</td>\n",
       "      <td>Patient</td>\n",
       "      <td>NaN</td>\n",
       "      <td>1</td>\n",
       "      <td>NaN</td>\n",
       "    </tr>\n",
       "    <tr>\n",
       "      <th>198</th>\n",
       "      <td>This way, all the lab has to do is scan the co...</td>\n",
       "      <td>NOW</td>\n",
       "      <td>https://www.sfgate.com/news/article/New-Mexico...</td>\n",
       "      <td>2021</td>\n",
       "      <td>AmE</td>\n",
       "      <td>upload</td>\n",
       "      <td>upload</td>\n",
       "      <td>Intransitive</td>\n",
       "      <td>NaN</td>\n",
       "      <td>Inanimate</td>\n",
       "      <td>NaN</td>\n",
       "      <td>Patient</td>\n",
       "      <td>NaN</td>\n",
       "      <td>1</td>\n",
       "      <td>NaN</td>\n",
       "    </tr>\n",
       "    <tr>\n",
       "      <th>199</th>\n",
       "      <td>They plan to release two per month, which will...</td>\n",
       "      <td>NOW</td>\n",
       "      <td>http://www.techrepublic.com/article/gaming-hea...</td>\n",
       "      <td>2014</td>\n",
       "      <td>AmE</td>\n",
       "      <td>upload</td>\n",
       "      <td>upload</td>\n",
       "      <td>Intransitive</td>\n",
       "      <td>NaN</td>\n",
       "      <td>Inanimate</td>\n",
       "      <td>NaN</td>\n",
       "      <td>Patient</td>\n",
       "      <td>NaN</td>\n",
       "      <td>1</td>\n",
       "      <td>NaN</td>\n",
       "    </tr>\n",
       "  </tbody>\n",
       "</table>\n",
       "<p>200 rows × 15 columns</p>\n",
       "</div>"
      ],
      "text/plain": [
       "                                                 Token Corpus  \\\n",
       "0    All the videos I'd been uploading to Facebook ...    NOW   \n",
       "1    The investigation began after discovering the ...    NOW   \n",
       "2    Elizabeth has been uploading one throwback bik...    NOW   \n",
       "3    This tester community has been uploading video...    NOW   \n",
       "4    Throughout the holiday, which Haim has dubbed ...    NOW   \n",
       "..                                                 ...    ...   \n",
       "195  These results will simultaneously upload to bl...    NOW   \n",
       "196  Completed rides will automatically upload to a...    NOW   \n",
       "197  It will automatically upload to your Digital D...    NOW   \n",
       "198  This way, all the lab has to do is scan the co...    NOW   \n",
       "199  They plan to release two per month, which will...    NOW   \n",
       "\n",
       "                                                Source  Year Variety  \\\n",
       "0    https://www.vulture.com/article/marc-rebillet-...  2021     AmE   \n",
       "1    https://www.herald-dispatch.com/news/police-ro...  2021     AmE   \n",
       "2    https://hollywoodlife.com/2021/02/02/elizabeth...  2021     AmE   \n",
       "3    https://www.thedailybeast.com/tesla-has-nda-si...  2021     AmE   \n",
       "4    https://www.vanityfair.com/style/2021/12/adam-...  2021     AmE   \n",
       "..                                                 ...   ...     ...   \n",
       "195  https://www.wfmz.com/news/pr_newswire/pr_newsw...  2021     AmE   \n",
       "196  https://www.road.cc/content/review/264803-waho...  2019     BrE   \n",
       "197  http://lifehacker.com/5920477/get-digital-doub...  2012     AmE   \n",
       "198  https://www.sfgate.com/news/article/New-Mexico...  2021     AmE   \n",
       "199  http://www.techrepublic.com/article/gaming-hea...  2014     AmE   \n",
       "\n",
       "    verbRealization verbLemma  Transitivity  Transitivity_GPT subjectAnimacy  \\\n",
       "0         uploading    upload    Transitive               NaN        Animate   \n",
       "1         uploading    upload    Transitive               NaN        Animate   \n",
       "2         uploading    upload    Transitive               NaN        Animate   \n",
       "3         uploading    upload    Transitive               NaN        Animate   \n",
       "4         uploading    upload    Transitive               NaN        Animate   \n",
       "..              ...       ...           ...               ...            ...   \n",
       "195          upload    upload  Intransitive               NaN      Inanimate   \n",
       "196          upload    upload  Intransitive               NaN      Inanimate   \n",
       "197          upload    upload  Intransitive               NaN      Inanimate   \n",
       "198          upload    upload  Intransitive               NaN      Inanimate   \n",
       "199          upload    upload  Intransitive               NaN      Inanimate   \n",
       "\n",
       "     subjectAnimacy_GPT subjectRole  subjectRole_GPT  Construction  \\\n",
       "0                   NaN       Agent              NaN             0   \n",
       "1                   NaN       Agent              NaN             0   \n",
       "2                   NaN       Agent              NaN             0   \n",
       "3                   NaN       Agent              NaN             0   \n",
       "4                   NaN       Agent              NaN             0   \n",
       "..                  ...         ...              ...           ...   \n",
       "195                 NaN     Patient              NaN             1   \n",
       "196                 NaN     Patient              NaN             1   \n",
       "197                 NaN     Patient              NaN             1   \n",
       "198                 NaN     Patient              NaN             1   \n",
       "199                 NaN     Patient              NaN             1   \n",
       "\n",
       "     Construction_GPT  \n",
       "0                 NaN  \n",
       "1                 NaN  \n",
       "2                 NaN  \n",
       "3                 NaN  \n",
       "4                 NaN  \n",
       "..                ...  \n",
       "195               NaN  \n",
       "196               NaN  \n",
       "197               NaN  \n",
       "198               NaN  \n",
       "199               NaN  \n",
       "\n",
       "[200 rows x 15 columns]"
      ]
     },
     "metadata": {},
     "output_type": "display_data"
    }
   ],
   "source": [
    "#| notest\n",
    "df = pd.read_excel('../in/Data_GPT_V2.xlsx')\n",
    "df"
   ]
  },
  {
   "cell_type": "markdown",
   "metadata": {},
   "source": [
    "## set up model"
   ]
  },
  {
   "cell_type": "code",
   "execution_count": 7,
   "metadata": {},
   "outputs": [
    {
     "data": {
      "text/plain": [
       "True"
      ]
     },
     "execution_count": 7,
     "metadata": {},
     "output_type": "execute_result"
    }
   ],
   "source": [
    "#| notest\n",
    "from dotenv import load_dotenv\n",
    "load_dotenv()"
   ]
  },
  {
   "cell_type": "code",
   "execution_count": 32,
   "metadata": {},
   "outputs": [],
   "source": [
    "#| notest\n",
    "# model=\"gpt-3.5-turbo\"\n",
    "model=\"gpt-4\"\n",
    "\n",
    "llm = ChatOpenAI(model=model, temperature=0)"
   ]
  },
  {
   "cell_type": "code",
   "execution_count": 33,
   "metadata": {},
   "outputs": [],
   "source": [
    "#| notest\n",
    "with open('../in/prompt.md', 'r') as f:\n",
    "        prompt_txt = f.read()"
   ]
  },
  {
   "cell_type": "code",
   "execution_count": 34,
   "metadata": {},
   "outputs": [],
   "source": [
    "#| notest\n",
    "prompt = ChatPromptTemplate.from_messages([\n",
    "        (\"system\", prompt_txt),\n",
    "        (\"human\", 'Please classify the following sentence: {input}')\n",
    "])"
   ]
  },
  {
   "cell_type": "code",
   "execution_count": 35,
   "metadata": {},
   "outputs": [],
   "source": [
    "#| notest\n",
    "runnable = create_structured_output_runnable(UtteranceClassification, llm, prompt)"
   ]
  },
  {
   "cell_type": "markdown",
   "metadata": {},
   "source": [
    "## run processing"
   ]
  },
  {
   "cell_type": "code",
   "execution_count": 36,
   "metadata": {},
   "outputs": [
    {
     "data": {
      "application/vnd.jupyter.widget-view+json": {
       "model_id": "3e0456c6751b4bc6bfb81f0265d1ae5f",
       "version_major": 2,
       "version_minor": 0
      },
      "text/plain": [
       "  0%|          | 0/200 [00:00<?, ?it/s]"
      ]
     },
     "metadata": {},
     "output_type": "display_data"
    }
   ],
   "source": [
    "#| notest\n",
    "\n",
    "results_list = []\n",
    "\n",
    "df_dev = (df\n",
    "    # .sample(5)\n",
    ")\n",
    "\n",
    "for _, row in tqdm(df_dev.iterrows(), total=len(df_dev)):\n",
    "    try:\n",
    "        result = runnable.invoke({\"input\": row['verbRealization'] + ' in: ' + row['Token']})\n",
    "        row_data = {\n",
    "            'text': row['Token'],\n",
    "            'transitivity': row['Transitivity'],\n",
    "            'gpt_transitivity': result.gpt_transitivity,\n",
    "            'causativity': row['Construction'],\n",
    "            'gpt_causativity': result.gpt_causativity,\n",
    "            'subject_animacy': row['subjectAnimacy'],\n",
    "            'gpt_subject_animacy': result.gpt_subject_animacy,\n",
    "            'subject_role': row['subjectRole'],\n",
    "            'gpt_subject_role': result.gpt_subject_role,\n",
    "\n",
    "            'gpt_subject': result.gpt_subject,\n",
    "            'gpt_verb': result.gpt_verb,\n",
    "            'gpt_object': result.gpt_object\n",
    "        }\n",
    "        results_list.append(row_data)\n",
    "    except:\n",
    "        continue\n",
    "\n",
    "results = pd.DataFrame(results_list)"
   ]
  },
  {
   "cell_type": "markdown",
   "metadata": {},
   "source": [
    "## calculate metrics"
   ]
  },
  {
   "cell_type": "markdown",
   "metadata": {},
   "source": [
    "align labels of factor levels between human and gpt labelling"
   ]
  },
  {
   "cell_type": "code",
   "execution_count": 37,
   "metadata": {},
   "outputs": [],
   "source": [
    "#| notest\n",
    "results['transitivity'] = results['transitivity'].replace({'Transitive': 'transitive', 'Intransitive': 'intransitive'})\n",
    "results['causativity'] = results['causativity'].replace({0: 'causative', 1: 'anticausative'})\n",
    "results['subject_animacy'] = results['subject_animacy'].replace({'Animate': 'animate', 'Inanimate': 'inanimate'})\n",
    "results['subject_role'] = results['subject_role'].replace({'Agent': 'agent', 'Patient': 'patient'})"
   ]
  },
  {
   "cell_type": "markdown",
   "metadata": {},
   "source": [
    "set variables and positive labels"
   ]
  },
  {
   "cell_type": "code",
   "execution_count": 38,
   "metadata": {},
   "outputs": [],
   "source": [
    "#| notest\n",
    "vars = {'transitivity': 'intransitive',\n",
    "\t'causativity': 'anticausative',\n",
    "\t'subject_animacy': 'inanimate',\n",
    "\t'subject_role': 'patient'}"
   ]
  },
  {
   "cell_type": "markdown",
   "metadata": {},
   "source": [
    "calculate metrics"
   ]
  },
  {
   "cell_type": "code",
   "execution_count": 39,
   "metadata": {},
   "outputs": [
    {
     "data": {
      "text/html": [
       "<div>\n",
       "<style scoped>\n",
       "    .dataframe tbody tr th:only-of-type {\n",
       "        vertical-align: middle;\n",
       "    }\n",
       "\n",
       "    .dataframe tbody tr th {\n",
       "        vertical-align: top;\n",
       "    }\n",
       "\n",
       "    .dataframe thead th {\n",
       "        text-align: right;\n",
       "    }\n",
       "</style>\n",
       "<table border=\"1\" class=\"dataframe\">\n",
       "  <thead>\n",
       "    <tr style=\"text-align: right;\">\n",
       "      <th></th>\n",
       "      <th>variable</th>\n",
       "      <th>metric</th>\n",
       "      <th>score</th>\n",
       "    </tr>\n",
       "  </thead>\n",
       "  <tbody>\n",
       "    <tr>\n",
       "      <th>0</th>\n",
       "      <td>transitivity</td>\n",
       "      <td>precision</td>\n",
       "      <td>0.960</td>\n",
       "    </tr>\n",
       "    <tr>\n",
       "      <th>1</th>\n",
       "      <td>transitivity</td>\n",
       "      <td>recall</td>\n",
       "      <td>0.680</td>\n",
       "    </tr>\n",
       "    <tr>\n",
       "      <th>2</th>\n",
       "      <td>transitivity</td>\n",
       "      <td>accuracy</td>\n",
       "      <td>0.725</td>\n",
       "    </tr>\n",
       "    <tr>\n",
       "      <th>3</th>\n",
       "      <td>transitivity</td>\n",
       "      <td>F1</td>\n",
       "      <td>0.800</td>\n",
       "    </tr>\n",
       "    <tr>\n",
       "      <th>0</th>\n",
       "      <td>causativity</td>\n",
       "      <td>precision</td>\n",
       "      <td>0.590</td>\n",
       "    </tr>\n",
       "    <tr>\n",
       "      <th>1</th>\n",
       "      <td>causativity</td>\n",
       "      <td>recall</td>\n",
       "      <td>0.270</td>\n",
       "    </tr>\n",
       "    <tr>\n",
       "      <th>2</th>\n",
       "      <td>causativity</td>\n",
       "      <td>accuracy</td>\n",
       "      <td>0.540</td>\n",
       "    </tr>\n",
       "    <tr>\n",
       "      <th>3</th>\n",
       "      <td>causativity</td>\n",
       "      <td>F1</td>\n",
       "      <td>0.370</td>\n",
       "    </tr>\n",
       "    <tr>\n",
       "      <th>0</th>\n",
       "      <td>subject_animacy</td>\n",
       "      <td>precision</td>\n",
       "      <td>0.990</td>\n",
       "    </tr>\n",
       "    <tr>\n",
       "      <th>1</th>\n",
       "      <td>subject_animacy</td>\n",
       "      <td>recall</td>\n",
       "      <td>0.870</td>\n",
       "    </tr>\n",
       "    <tr>\n",
       "      <th>2</th>\n",
       "      <td>subject_animacy</td>\n",
       "      <td>accuracy</td>\n",
       "      <td>0.895</td>\n",
       "    </tr>\n",
       "    <tr>\n",
       "      <th>3</th>\n",
       "      <td>subject_animacy</td>\n",
       "      <td>F1</td>\n",
       "      <td>0.930</td>\n",
       "    </tr>\n",
       "    <tr>\n",
       "      <th>0</th>\n",
       "      <td>subject_role</td>\n",
       "      <td>precision</td>\n",
       "      <td>0.880</td>\n",
       "    </tr>\n",
       "    <tr>\n",
       "      <th>1</th>\n",
       "      <td>subject_role</td>\n",
       "      <td>recall</td>\n",
       "      <td>0.360</td>\n",
       "    </tr>\n",
       "    <tr>\n",
       "      <th>2</th>\n",
       "      <td>subject_role</td>\n",
       "      <td>accuracy</td>\n",
       "      <td>0.520</td>\n",
       "    </tr>\n",
       "    <tr>\n",
       "      <th>3</th>\n",
       "      <td>subject_role</td>\n",
       "      <td>F1</td>\n",
       "      <td>0.520</td>\n",
       "    </tr>\n",
       "  </tbody>\n",
       "</table>\n",
       "</div>"
      ],
      "text/plain": [
       "          variable     metric  score\n",
       "0     transitivity  precision  0.960\n",
       "1     transitivity     recall  0.680\n",
       "2     transitivity   accuracy  0.725\n",
       "3     transitivity         F1  0.800\n",
       "0      causativity  precision  0.590\n",
       "1      causativity     recall  0.270\n",
       "2      causativity   accuracy  0.540\n",
       "3      causativity         F1  0.370\n",
       "0  subject_animacy  precision  0.990\n",
       "1  subject_animacy     recall  0.870\n",
       "2  subject_animacy   accuracy  0.895\n",
       "3  subject_animacy         F1  0.930\n",
       "0     subject_role  precision  0.880\n",
       "1     subject_role     recall  0.360\n",
       "2     subject_role   accuracy  0.520\n",
       "3     subject_role         F1  0.520"
      ]
     },
     "execution_count": 39,
     "metadata": {},
     "output_type": "execute_result"
    }
   ],
   "source": [
    "#| notest\n",
    "metrics_vars = []\n",
    "for var in vars.items():\n",
    "\tmetrics_var = get_metrics(results, var[0], var[1])\n",
    "\tmetrics_vars.append(metrics_var)\n",
    "\n",
    "metrics = pd.concat(metrics_vars)\n",
    "\n",
    "metrics"
   ]
  },
  {
   "cell_type": "markdown",
   "metadata": {},
   "source": [
    "plot metrics"
   ]
  },
  {
   "cell_type": "code",
   "execution_count": 40,
   "metadata": {},
   "outputs": [
    {
     "data": {
      "text/html": [
       "\n",
       "<style>\n",
       "  #altair-viz-7ba991c414bd408987b7c1353b1eee14.vega-embed {\n",
       "    width: 100%;\n",
       "    display: flex;\n",
       "  }\n",
       "\n",
       "  #altair-viz-7ba991c414bd408987b7c1353b1eee14.vega-embed details,\n",
       "  #altair-viz-7ba991c414bd408987b7c1353b1eee14.vega-embed details summary {\n",
       "    position: relative;\n",
       "  }\n",
       "</style>\n",
       "<div id=\"altair-viz-7ba991c414bd408987b7c1353b1eee14\"></div>\n",
       "<script type=\"text/javascript\">\n",
       "  var VEGA_DEBUG = (typeof VEGA_DEBUG == \"undefined\") ? {} : VEGA_DEBUG;\n",
       "  (function(spec, embedOpt){\n",
       "    let outputDiv = document.currentScript.previousElementSibling;\n",
       "    if (outputDiv.id !== \"altair-viz-7ba991c414bd408987b7c1353b1eee14\") {\n",
       "      outputDiv = document.getElementById(\"altair-viz-7ba991c414bd408987b7c1353b1eee14\");\n",
       "    }\n",
       "    const paths = {\n",
       "      \"vega\": \"https://cdn.jsdelivr.net/npm/vega@5?noext\",\n",
       "      \"vega-lib\": \"https://cdn.jsdelivr.net/npm/vega-lib?noext\",\n",
       "      \"vega-lite\": \"https://cdn.jsdelivr.net/npm/vega-lite@5.15.1?noext\",\n",
       "      \"vega-embed\": \"https://cdn.jsdelivr.net/npm/vega-embed@6?noext\",\n",
       "    };\n",
       "\n",
       "    function maybeLoadScript(lib, version) {\n",
       "      var key = `${lib.replace(\"-\", \"\")}_version`;\n",
       "      return (VEGA_DEBUG[key] == version) ?\n",
       "        Promise.resolve(paths[lib]) :\n",
       "        new Promise(function(resolve, reject) {\n",
       "          var s = document.createElement('script');\n",
       "          document.getElementsByTagName(\"head\")[0].appendChild(s);\n",
       "          s.async = true;\n",
       "          s.onload = () => {\n",
       "            VEGA_DEBUG[key] = version;\n",
       "            return resolve(paths[lib]);\n",
       "          };\n",
       "          s.onerror = () => reject(`Error loading script: ${paths[lib]}`);\n",
       "          s.src = paths[lib];\n",
       "        });\n",
       "    }\n",
       "\n",
       "    function showError(err) {\n",
       "      outputDiv.innerHTML = `<div class=\"error\" style=\"color:red;\">${err}</div>`;\n",
       "      throw err;\n",
       "    }\n",
       "\n",
       "    function displayChart(vegaEmbed) {\n",
       "      vegaEmbed(outputDiv, spec, embedOpt)\n",
       "        .catch(err => showError(`Javascript Error: ${err.message}<br>This usually means there's a typo in your chart specification. See the javascript console for the full traceback.`));\n",
       "    }\n",
       "\n",
       "    if(typeof define === \"function\" && define.amd) {\n",
       "      requirejs.config({paths});\n",
       "      require([\"vega-embed\"], displayChart, err => showError(`Error loading script: ${err.message}`));\n",
       "    } else {\n",
       "      maybeLoadScript(\"vega\", \"5\")\n",
       "        .then(() => maybeLoadScript(\"vega-lite\", \"5.15.1\"))\n",
       "        .then(() => maybeLoadScript(\"vega-embed\", \"6\"))\n",
       "        .catch(showError)\n",
       "        .then(() => displayChart(vegaEmbed));\n",
       "    }\n",
       "  })({\"config\": {\"view\": {\"continuousWidth\": 300, \"continuousHeight\": 300}}, \"data\": {\"name\": \"data-9d8da9e40ce468523fe8d10f2c12caf2\"}, \"facet\": {\"column\": {\"field\": \"variable\", \"type\": \"nominal\"}}, \"spec\": {\"mark\": {\"type\": \"bar\"}, \"encoding\": {\"color\": {\"field\": \"metric\", \"legend\": null, \"type\": \"nominal\"}, \"x\": {\"field\": \"metric\", \"sort\": [\"precision\", \"recall\", \"accuracy\", \"F1\", \"precision\", \"recall\", \"accuracy\", \"F1\", \"precision\", \"recall\", \"accuracy\", \"F1\", \"precision\", \"recall\", \"accuracy\", \"F1\"], \"type\": \"nominal\"}, \"y\": {\"field\": \"score\", \"type\": \"quantitative\"}}}, \"$schema\": \"https://vega.github.io/schema/vega-lite/v5.15.1.json\", \"datasets\": {\"data-9d8da9e40ce468523fe8d10f2c12caf2\": [{\"variable\": \"transitivity\", \"metric\": \"precision\", \"score\": 0.96}, {\"variable\": \"transitivity\", \"metric\": \"recall\", \"score\": 0.68}, {\"variable\": \"transitivity\", \"metric\": \"accuracy\", \"score\": 0.725}, {\"variable\": \"transitivity\", \"metric\": \"F1\", \"score\": 0.8}, {\"variable\": \"causativity\", \"metric\": \"precision\", \"score\": 0.59}, {\"variable\": \"causativity\", \"metric\": \"recall\", \"score\": 0.27}, {\"variable\": \"causativity\", \"metric\": \"accuracy\", \"score\": 0.54}, {\"variable\": \"causativity\", \"metric\": \"F1\", \"score\": 0.37}, {\"variable\": \"subject_animacy\", \"metric\": \"precision\", \"score\": 0.99}, {\"variable\": \"subject_animacy\", \"metric\": \"recall\", \"score\": 0.87}, {\"variable\": \"subject_animacy\", \"metric\": \"accuracy\", \"score\": 0.895}, {\"variable\": \"subject_animacy\", \"metric\": \"F1\", \"score\": 0.93}, {\"variable\": \"subject_role\", \"metric\": \"precision\", \"score\": 0.88}, {\"variable\": \"subject_role\", \"metric\": \"recall\", \"score\": 0.36}, {\"variable\": \"subject_role\", \"metric\": \"accuracy\", \"score\": 0.52}, {\"variable\": \"subject_role\", \"metric\": \"F1\", \"score\": 0.52}]}}, {\"mode\": \"vega-lite\"});\n",
       "</script>"
      ],
      "text/plain": [
       "alt.FacetChart(...)"
      ]
     },
     "execution_count": 40,
     "metadata": {},
     "output_type": "execute_result"
    }
   ],
   "source": [
    "chart = alt.Chart(metrics).mark_bar().encode(\n",
    "\ty='score:Q',\n",
    "\tx=alt.X('metric:N', sort=metrics['metric'].tolist()),\n",
    "\tcolor=alt.Color('metric', legend=None),\n",
    ").facet(column='variable:N')\n",
    "\n",
    "chart"
   ]
  },
  {
   "cell_type": "markdown",
   "metadata": {},
   "source": [
    "## save results"
   ]
  },
  {
   "cell_type": "code",
   "execution_count": 47,
   "metadata": {},
   "outputs": [],
   "source": [
    "datetime = datetime.now().strftime(\"%Y-%m-%d_%H:%M\")"
   ]
  },
  {
   "cell_type": "code",
   "execution_count": 48,
   "metadata": {},
   "outputs": [],
   "source": [
    "with open(f'../out/{datetime}_{model}_prompt.md', 'w') as f_prompt:\n",
    "\tf_prompt.write(prompt_txt)"
   ]
  },
  {
   "cell_type": "code",
   "execution_count": 49,
   "metadata": {},
   "outputs": [],
   "source": [
    "chart.save(f'../out/{datetime}_{model}_metrics.png', scale=2.0)"
   ]
  },
  {
   "cell_type": "code",
   "execution_count": 50,
   "metadata": {},
   "outputs": [],
   "source": [
    "results.to_csv(f'../out/{datetime}_{model}_data.csv', index=False)"
   ]
  },
  {
   "cell_type": "code",
   "execution_count": 51,
   "metadata": {},
   "outputs": [],
   "source": [
    "metrics.to_csv(f'../out/{datetime}_{model}_metrics.csv', index=False)"
   ]
  }
 ],
 "metadata": {
  "kernelspec": {
   "display_name": "python3",
   "language": "python",
   "name": "python3"
  },
  "language_info": {
   "codemirror_mode": {
    "name": "ipython",
    "version": 3
   },
   "file_extension": ".py",
   "mimetype": "text/x-python",
   "name": "python",
   "nbconvert_exporter": "python",
   "pygments_lexer": "ipython3",
   "version": "3.12.0"
  }
 },
 "nbformat": 4,
 "nbformat_minor": 2
}
